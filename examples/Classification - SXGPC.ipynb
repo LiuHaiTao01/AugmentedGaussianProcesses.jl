{
 "cells": [
  {
   "cell_type": "code",
   "execution_count": 1,
   "metadata": {
    "collapsed": false,
    "deletable": true,
    "editable": true
   },
   "outputs": [],
   "source": [
    "using Plots; pyplot();\n",
    "push!(LOAD_PATH,\"/home/theo/OMGP/src\")\n",
    "using OMGP;"
   ]
  },
  {
   "cell_type": "code",
   "execution_count": 2,
   "metadata": {
    "collapsed": false,
    "deletable": true,
    "editable": true
   },
   "outputs": [],
   "source": [
    "X = readdlm(\"data/banana_X_train\");\n",
    "Y = readdlm(\"data/banana_Y_train\")[:];"
   ]
  },
  {
   "cell_type": "code",
   "execution_count": 3,
   "metadata": {
    "collapsed": false,
    "deletable": true,
    "editable": true
   },
   "outputs": [
    {
     "name": "stdout",
     "output_type": "stream",
     "text": [
      "Trained with 4 points\n",
      "Trained with 8 points\n",
      "Trained with 16 points\n",
      "Trained with 32 points\n",
      "Trained with 64 points\n"
     ]
    }
   ],
   "source": [
    "# Run sparse classification with increasing number of inducing points\n",
    "models = []\n",
    "Ms = [4, 8, 16, 32, 64]\n",
    "kernel = RBFKernel(1.0)\n",
    "for (index, num_inducing) in enumerate(Ms)\n",
    "    m = SparseXGPC(X, Y, kernel=kernel,\n",
    "        OptimizeIndPoints=false,Stochastic=false,Autotuning=false,m=num_inducing)\n",
    "    m.train(iterations=200)\n",
    "    println(\"Trained with $(num_inducing) points\")\n",
    "    push!(models,m);\n",
    "end"
   ]
  },
  {
   "cell_type": "code",
   "execution_count": 4,
   "metadata": {
    "collapsed": false,
    "deletable": true,
    "editable": true
   },
   "outputs": [],
   "source": [
    "mfull = BatchXGPC(X, Y, kernel=kernel,Autotuning=false)\n",
    "mfull.train(iterations=5);\n",
    "push!(models,mfull);"
   ]
  },
  {
   "cell_type": "code",
   "execution_count": 5,
   "metadata": {
    "collapsed": false,
    "deletable": true,
    "editable": true
   },
   "outputs": [],
   "source": [
    "function compute_Grid(model,nGrid=50)\n",
    "    mins = [-3.25,-2.85]\n",
    "    maxs = [3.65,3.4]\n",
    "    xlin = linspace(mins[1],maxs[1],nGrid)\n",
    "    ylin = linspace(mins[2],maxs[2],nGrid)\n",
    "    Xplot = hcat([j for i in xlin, j in ylin][:],[i for i in xlin, j in ylin][:])\n",
    "    y = model.predictproba(Xplot)\n",
    "    return (y,xlin,ylin)\n",
    "    end;"
   ]
  },
  {
   "cell_type": "code",
   "execution_count": 6,
   "metadata": {
    "collapsed": false,
    "deletable": true,
    "editable": true
   },
   "outputs": [],
   "source": [
    "function plotdata(X,Y)\n",
    "    plot(X[Y.==1,1],X[Y.==1,2],t=:scatter,alpha=0.33,lab=\"\",size=(300,500));\n",
    "    plot!(X[Y.==-1,1],X[Y.==-1,2],t=:scatter,alpha=0.33,lab=\"\")\n",
    "    end;"
   ]
  },
  {
   "cell_type": "code",
   "execution_count": 7,
   "metadata": {
    "collapsed": false,
    "deletable": true,
    "editable": true
   },
   "outputs": [],
   "source": [
    "function plotcontour(model,X,Y)\n",
    "    (predic,x,y) = compute_Grid(model);\n",
    "    plotdata(X,Y)\n",
    "    if in(:m,fieldnames(model))\n",
    "        plot!(model.inducingPoints[:,1],model.inducingPoints[:,2],msize=2.0,color=\"black\",t=:scatter,lab=\"\")\n",
    "    end\n",
    "    #return plot!(x,y,(x,y)->(model.predictproba([x,y]')[1]),cbar=false,t=:contour,levels=[0.5],fill=false,fillalpha=0.2,title=(in(:m,fieldnames(model))?\"M = $(model.m)\":\"full\"))\n",
    "    return plot!(x,y,reshape(predic,nGrid,nGrid),cbar=false,t=:contour,levels=[0.5],fill=false,fillalpha=0.2,title=(in(:m,fieldnames(model))?\"M = $(model.m)\":\"full\"))\n",
    "end;"
   ]
  },
  {
   "cell_type": "code",
   "execution_count": 8,
   "metadata": {
    "collapsed": false,
    "deletable": true,
    "editable": true,
    "scrolled": true
   },
   "outputs": [
    {
     "ename": "LoadError",
     "evalue": "\u001b[91mCovariance under 0\u001b[39m",
     "output_type": "error",
     "traceback": [
      "\u001b[91mCovariance under 0\u001b[39m",
      "",
      "Stacktrace:",
      " [1] \u001b[1mlogitpredictproba\u001b[22m\u001b[22m\u001b[1m(\u001b[22m\u001b[22m::OMGP.SparseXGPC, ::Array{Float64,2}\u001b[1m)\u001b[22m\u001b[22m at \u001b[1m/home/theo/.julia/v0.6/OMGP/src/Predictions.jl:120\u001b[22m\u001b[22m",
      " [2] \u001b[1m(::OMGP.##8#14{OMGP.SparseXGPC})\u001b[22m\u001b[22m\u001b[1m(\u001b[22m\u001b[22m::Array{Float64,2}\u001b[1m)\u001b[22m\u001b[22m at \u001b[1m/home/theo/.julia/v0.6/OMGP/src/GPFields.jl:227\u001b[22m\u001b[22m",
      " [3] \u001b[1mcompute_Grid\u001b[22m\u001b[22m\u001b[1m(\u001b[22m\u001b[22m::OMGP.SparseXGPC, ::Int64\u001b[1m)\u001b[22m\u001b[22m at \u001b[1m./In[5]:7\u001b[22m\u001b[22m",
      " [4] \u001b[1mplotcontour\u001b[22m\u001b[22m\u001b[1m(\u001b[22m\u001b[22m::OMGP.SparseXGPC, ::Array{Float64,2}, ::Array{Float64,1}\u001b[1m)\u001b[22m\u001b[22m at \u001b[1m./In[7]:2\u001b[22m\u001b[22m",
      " [5] \u001b[1m(::##13#14)\u001b[22m\u001b[22m\u001b[1m(\u001b[22m\u001b[22m::OMGP.SparseXGPC\u001b[1m)\u001b[22m\u001b[22m at \u001b[1m./In[8]:1\u001b[22m\u001b[22m",
      " [6] \u001b[1mbroadcast_t\u001b[22m\u001b[22m\u001b[1m(\u001b[22m\u001b[22m::Function, ::Type{Any}, ::Tuple{Base.OneTo{Int64}}, ::CartesianRange{CartesianIndex{1}}, ::Array{Any,1}\u001b[1m)\u001b[22m\u001b[22m at \u001b[1m./broadcast.jl:258\u001b[22m\u001b[22m",
      " [7] \u001b[1mbroadcast_c\u001b[22m\u001b[22m at \u001b[1m./broadcast.jl:321\u001b[22m\u001b[22m [inlined]",
      " [8] \u001b[1mbroadcast\u001b[22m\u001b[22m\u001b[1m(\u001b[22m\u001b[22m::Function, ::Array{Any,1}\u001b[1m)\u001b[22m\u001b[22m at \u001b[1m./broadcast.jl:455\u001b[22m\u001b[22m",
      " [9] \u001b[1minclude_string\u001b[22m\u001b[22m\u001b[1m(\u001b[22m\u001b[22m::String, ::String\u001b[1m)\u001b[22m\u001b[22m at \u001b[1m./loading.jl:522\u001b[22m\u001b[22m"
     ]
    }
   ],
   "source": [
    "plot(broadcast(x->plotcontour(x,X,Y),models)...,layout=(1,length(Ms)),size=(1000,200))"
   ]
  },
  {
   "cell_type": "code",
   "execution_count": null,
   "metadata": {
    "collapsed": false,
    "deletable": true,
    "editable": true
   },
   "outputs": [],
   "source": []
  },
  {
   "cell_type": "code",
   "execution_count": null,
   "metadata": {
    "collapsed": true,
    "deletable": true,
    "editable": true
   },
   "outputs": [],
   "source": []
  }
 ],
 "metadata": {
  "kernelspec": {
   "display_name": "Julia 0.6.2",
   "language": "julia",
   "name": "julia-0.6"
  },
  "language_info": {
   "file_extension": ".jl",
   "mimetype": "application/julia",
   "name": "julia",
   "version": "0.6.2"
  }
 },
 "nbformat": 4,
 "nbformat_minor": 2
}
