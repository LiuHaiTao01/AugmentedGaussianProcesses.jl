{
 "cells": [
  {
   "cell_type": "code",
   "execution_count": 2,
   "metadata": {
    "collapsed": false,
    "deletable": true,
    "editable": true
   },
   "outputs": [],
   "source": [
    "using Plots; pyplot();\n",
    "push!(LOAD_PATH,\"/home/theo/OMGP/src\")\n",
    "using OMGP;\n",
    "#using OMGP.KernelFunctions\n",
    "using GradDescent;"
   ]
  },
  {
   "cell_type": "code",
   "execution_count": 3,
   "metadata": {
    "collapsed": false,
    "deletable": true,
    "editable": true
   },
   "outputs": [],
   "source": [
    "X = readdlm(\"data/banana_X_train\");\n",
    "Y = readdlm(\"data/banana_Y_train\")[:];"
   ]
  },
  {
   "cell_type": "code",
   "execution_count": 4,
   "metadata": {
    "collapsed": false,
    "deletable": true,
    "editable": true
   },
   "outputs": [
    {
     "name": "stdout",
     "output_type": "stream",
     "text": [
      "Trained with 4 points\n",
      "Trained with 8 points\n",
      "Trained with 16 points\n",
      "Trained with 32 points\n",
      "Trained with 64 points\n"
     ]
    }
   ],
   "source": [
    "# Run sparse classification with increasing number of inducing points\n",
    "models = []\n",
    "Ms = [4, 8, 16, 32, 64]\n",
    "for (index, num_inducing) in enumerate(Ms)\n",
    "    m = SparseXGPC(X, Y, Kernels=[Kernel(\"rbf\",1.0,params=0.5)], BatchSize=10,\n",
    "               optimizer=Adam(α=0.1),OptimizeIndPoints=false,Stochastic=false,Autotuning=false,m=num_inducing)\n",
    "    m.train(iterations=200)\n",
    "    println(\"Trained with $(num_inducing) points\")\n",
    "    push!(models,m);\n",
    "end"
   ]
  },
  {
   "cell_type": "code",
   "execution_count": 5,
   "metadata": {
    "collapsed": false,
    "deletable": true,
    "editable": true
   },
   "outputs": [],
   "source": [
    "mfull = BatchXGPC(X, Y, Kernels=[Kernel(\"rbf\",1.0,params=0.5)],\n",
    "               optimizer=Adam(α=0.1),Autotuning=false)\n",
    "mfull.train(iterations=5);\n",
    "push!(models,mfull);"
   ]
  },
  {
   "cell_type": "code",
   "execution_count": 6,
   "metadata": {
    "collapsed": false,
    "deletable": true,
    "editable": true
   },
   "outputs": [],
   "source": [
    "function compute_Grid(model,nGrid=50)\n",
    "    mins = [-3.25,-2.85]\n",
    "    maxs = [3.65,3.4]\n",
    "    xlin = linspace(mins[1],maxs[1],nGrid)\n",
    "    ylin = linspace(mins[2],maxs[2],nGrid)\n",
    "    xplot = reshape(xlin, 1, nGrid)\n",
    "    yplot = reshape(ylin, nGrid, 1)\n",
    "    Xplot = hcat(repmat(xplot, nGrid, 1)[:], repmat(yplot, 1, nGrid)[:])\n",
    "    y = model.predictproba(Xplot)\n",
    "    return (y,xlin,ylin)\n",
    "    end;"
   ]
  },
  {
   "cell_type": "code",
   "execution_count": 7,
   "metadata": {
    "collapsed": false,
    "deletable": true,
    "editable": true
   },
   "outputs": [],
   "source": [
    "function plotdata(X,Y)\n",
    "    plot(X[Y.==1,1],X[Y.==1,2],t=:scatter,alpha=0.33,lab=\"\",size=(300,500));\n",
    "    plot!(X[Y.==-1,1],X[Y.==-1,2],t=:scatter,alpha=0.33,lab=\"\")\n",
    "    end;"
   ]
  },
  {
   "cell_type": "code",
   "execution_count": 16,
   "metadata": {
    "collapsed": false,
    "deletable": true,
    "editable": true
   },
   "outputs": [],
   "source": [
    "function plotcontour(model,X,Y)\n",
    "    (predic,x,y) = compute_Grid(model);\n",
    "    plotdata(X,Y)\n",
    "    if in(:m,fieldnames(model))\n",
    "        plot!(model.inducingPoints[:,1],model.inducingPoints[:,2],msize=2.0,color=\"black\",t=:scatter,lab=\"\")\n",
    "    end\n",
    "    #return plot!(x,y,(x,y)->(model.predictproba([x,y]')[1]),cbar=false,t=:contour,levels=[0.5],fill=false,fillalpha=0.2,title=(in(:m,fieldnames(model))?\"M = $(model.m)\":\"full\"))\n",
    "    return plot!(x,y,predic,cbar=false,t=:contour,levels=[0.5],fill=false,fillalpha=0.2,title=(in(:m,fieldnames(model))?\"M = $(model.m)\":\"full\"))\n",
    "end;"
   ]
  },
  {
   "cell_type": "code",
   "execution_count": null,
   "metadata": {
    "collapsed": false,
    "deletable": true,
    "editable": true,
    "scrolled": true
   },
   "outputs": [],
   "source": [
    "plot(broadcast(x->plotcontour(x,X,Y),models)...,layout=(1,length(Ms)),size=(1000,200))"
   ]
  },
  {
   "cell_type": "code",
   "execution_count": null,
   "metadata": {
    "collapsed": false,
    "deletable": true,
    "editable": true
   },
   "outputs": [],
   "source": []
  },
  {
   "cell_type": "code",
   "execution_count": null,
   "metadata": {
    "collapsed": true,
    "deletable": true,
    "editable": true
   },
   "outputs": [],
   "source": []
  }
 ],
 "metadata": {
  "kernelspec": {
   "display_name": "Julia 0.6.2",
   "language": "julia",
   "name": "julia-0.6"
  },
  "language_info": {
   "file_extension": ".jl",
   "mimetype": "application/julia",
   "name": "julia",
   "version": "0.6.2"
  }
 },
 "nbformat": 4,
 "nbformat_minor": 2
}
